{
 "cells": [
  {
   "cell_type": "code",
   "execution_count": 1,
   "id": "499ff1a4-cd1d-46f2-b03d-834ea9d8bb28",
   "metadata": {},
   "outputs": [],
   "source": [
    "from optic_metrology.interference.simulation import YungSimulation"
   ]
  },
  {
   "cell_type": "code",
   "execution_count": 2,
   "id": "7c2cb00b-6a2e-4ec5-9360-4fa9cf456ee8",
   "metadata": {},
   "outputs": [
    {
     "data": {
      "application/vnd.jupyter.widget-view+json": {
       "model_id": "9e228bd46f3743adb2af14f317673007",
       "version_major": 2,
       "version_minor": 0
      },
      "text/plain": [
       "interactive(children=(FloatSlider(value=0.005, description='slit_width', max=0.01, step=0.0001), FloatSlider(v…"
      ]
     },
     "metadata": {},
     "output_type": "display_data"
    }
   ],
   "source": [
    "from scipy import *\n",
    "import matplotlib.pyplot as plt\n",
    "from ipywidgets import interact, IntSlider, FloatSlider\n",
    "from matplotlib import cm, pyplot as plt\n",
    "import matplotlib\n",
    "from matplotlib.colors import LogNorm\n",
    "\n",
    "## Definition of the plot_cos function, our \"callback function\".\n",
    "def plot_simulation(\n",
    "    slit_width=0.005,\n",
    "    slit_height=0.1,\n",
    "    slit_separation=0.125,\n",
    "    screen_width=40.0,\n",
    "    screen_height=5.5,\n",
    "    wave_length=650,\n",
    "    screen_distance=1200,\n",
    "    slit_width_pxl_qty=10, \n",
    "    slit_height_pxl_qty=200,\n",
    "    screen_width_pxl_qty=201,\n",
    "    screen_height_pxl_qty=28,\n",
    "    slit_count=2,\n",
    "    show_image=1,\n",
    "    slice_point=20,\n",
    "):\n",
    "    simulator = YungSimulation(\n",
    "        slit_width=slit_width,  # mm\n",
    "        slit_height=slit_height,\n",
    "        slit_separation=slit_separation,  # mm\n",
    "        screen_width=screen_width,  # mm\n",
    "        screen_height=screen_height,\n",
    "        wave_length=wave_length,  # nm\n",
    "        screen_distance=screen_distance,  # mm\n",
    "        slit_width_pxl_qty=slit_width_pxl_qty, \n",
    "        slit_height_pxl_qty=slit_height_pxl_qty,\n",
    "        screen_width_pxl_qty=screen_width_pxl_qty,\n",
    "        screen_height_pxl_qty=screen_height_pxl_qty,\n",
    "        slit_count=slit_count,\n",
    "        \n",
    "    )\n",
    "    result = simulator.simulate()\n",
    "    if show_image:\n",
    "        plt.imshow(result, cmap=cm.gray, norm=LogNorm())\n",
    "    else:\n",
    "        plt.plot(result[slice_point, :])\n",
    "\n",
    "## Generate our user interface.\n",
    "interact(\n",
    "    plot_simulation, \n",
    "    slit_count=IntSlider(min=2, max=10, step=1, value=2), \n",
    "    wave_length=IntSlider(min=200, max=750, step=50, value=650),\n",
    "    slit_width=FloatSlider(min=0, max=0.01, step=0.0001, value=0.005),\n",
    "    slit_height=FloatSlider(min=0, max=1, step=0.001, value=0.1),\n",
    "    slit_separation=FloatSlider(min=0, max=1, step=0.001, value=0.125),\n",
    "    screen_width=FloatSlider(min=20.0, max=150, step=1.0, value=40.0),\n",
    "    screen_height=FloatSlider(min=2.0, max=50, step=0.5, value=5.5),\n",
    "    screen_distance=IntSlider(min=100, max=10000, step=100, value=1200),\n",
    "    slit_width_pxl_qty=IntSlider(min=1, max=20, step=1, value=10), \n",
    "    slit_height_pxl_qty=IntSlider(min=150, max=300, step=10, value=200),\n",
    "    screen_width_pxl_qty=IntSlider(min=150, max=1000, step=10, value=200),\n",
    "    screen_height_pxl_qty=IntSlider(min=20, max=100, step=1, value=28),\n",
    "    show_image=IntSlider(min=0, max=1, step=1, value=1), \n",
    "    slice_point=IntSlider(min=0, max=100, step=1, value=20),\n",
    ");"
   ]
  },
  {
   "cell_type": "code",
   "execution_count": null,
   "id": "55e00e39-382c-4d51-8611-a93b668c0546",
   "metadata": {},
   "outputs": [],
   "source": []
  }
 ],
 "metadata": {
  "kernelspec": {
   "display_name": "Python 3 (ipykernel)",
   "language": "python",
   "name": "python3"
  },
  "language_info": {
   "codemirror_mode": {
    "name": "ipython",
    "version": 3
   },
   "file_extension": ".py",
   "mimetype": "text/x-python",
   "name": "python",
   "nbconvert_exporter": "python",
   "pygments_lexer": "ipython3",
   "version": "3.11.2"
  }
 },
 "nbformat": 4,
 "nbformat_minor": 5
}
